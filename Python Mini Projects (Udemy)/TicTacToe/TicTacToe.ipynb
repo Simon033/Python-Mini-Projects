{
 "cells": [
  {
   "cell_type": "code",
   "execution_count": 1,
   "id": "9b456161",
   "metadata": {},
   "outputs": [],
   "source": [
    "#ask if want to play the game\n",
    "def Want_to_play():\n",
    "    x=input(\"Do you want to play Tic Tac Toe (Y or N): \")\n",
    "    if x in ['Y','N']:\n",
    "        return 'Y'==x\n",
    "    else:\n",
    "        print(\"Invalid Reponse!!\")\n",
    "        Want_to_play()"
   ]
  },
  {
   "cell_type": "code",
   "execution_count": 2,
   "id": "ff0f969b",
   "metadata": {},
   "outputs": [],
   "source": [
    "#ask player1 for character choice \"X or O\"\n",
    "def char_Choice():\n",
    "    x=input(\"Player 1 choose 'X' or 'O': \")\n",
    "    if x in ['X','O']:\n",
    "        return x\n",
    "    else:\n",
    "        char_Choice()"
   ]
  },
  {
   "cell_type": "code",
   "execution_count": 3,
   "id": "0b714526",
   "metadata": {},
   "outputs": [],
   "source": [
    "#ask user to select a position\n",
    "def select_position(available_slot):\n",
    "    \n",
    "    x=input(\"\\nSelect a number correspondting to the positon in which you want place the character: \")\n",
    "    print(\"\\n\")\n",
    "    \n",
    "    if  x.isdigit():\n",
    "        x=int(x)-1\n",
    "        if x in available_slot:\n",
    "            available_slot.remove(x)\n",
    "            return int(x)\n",
    "        else:\n",
    "            print(\"Number out of range!!\")\n",
    "            return select_position(available_slot)\n",
    "    else:\n",
    "        print(\"Invalid Input!!\")\n",
    "        return select_position(available_slot)"
   ]
  },
  {
   "cell_type": "code",
   "execution_count": 4,
   "id": "88f9abd4",
   "metadata": {},
   "outputs": [],
   "source": [
    "#display the board with given inputs\n",
    "def display_board(board):\n",
    "    print((board[0] +' | '+ board[1] +' | '+ board[2]+'\\n_________\\n\\n'\n",
    "     +board[3] +' | '+ board[4] +' | '+ board[5]+'\\n_________\\n\\n'\n",
    "     +board[6] +' | '+ board[7] +' | '+ board[8]))"
   ]
  },
  {
   "cell_type": "code",
   "execution_count": 5,
   "id": "34b95aa5",
   "metadata": {},
   "outputs": [],
   "source": [
    "#check if winning condition is met\n",
    "def win_check(board):\n",
    "    # Check rows\n",
    "    for i in range(3):\n",
    "        if board[i*3] == board[i*3+1] == board[i*3+2] != ' ':\n",
    "            return True\n",
    "\n",
    "    # Check columns\n",
    "    for i in range(3):\n",
    "        if board[i] == board[i+3] == board[i+6] != ' ':\n",
    "            return True\n",
    "\n",
    "    # Check diagonals\n",
    "    if board[0] == board[4] == board[8] != ' ':\n",
    "        return True\n",
    "    if board[2] == board[4] == board[6] != ' ':\n",
    "        return True\n",
    "\n",
    "    # No winner found\n",
    "    return False\n"
   ]
  },
  {
   "cell_type": "code",
   "execution_count": 6,
   "id": "dd25f950",
   "metadata": {},
   "outputs": [],
   "source": [
    "#game code\n",
    "def play_game():\n",
    "    x=Want_to_play()\n",
    "    from IPython.display import clear_output\n",
    "    while x:\n",
    "        available_slot=[0,1,2,3,4,5,6,7,8]\n",
    "        board=[' ',' ',' ',' ',' ',' ',' ',' ',' ']\n",
    "        p1=char_Choice()\n",
    "        if p1=='X':\n",
    "            p2='O'\n",
    "        else:\n",
    "            p2='X'\n",
    "            \n",
    "        while len(available_slot):\n",
    "            ## player1\n",
    "            print(\"\\n\\nPlayer1\\n_______\\n\")\n",
    "            display_board(board)\n",
    "            print('\\n')\n",
    "            print('1 | 2 | 3\\n_________\\n\\n4 | 5 | 6\\n_________\\n\\n7 | 8 | 9')\n",
    "            p1_position=select_position(available_slot)\n",
    "            board[p1_position]=p1\n",
    "            display_board(board)\n",
    "            if win_check(board):\n",
    "                print('\\n')\n",
    "                print(\"Player 1 Wins !!\")\n",
    "                display_board(board)\n",
    "                break\n",
    "            clear_output(wait=False)\n",
    "         \n",
    "            ## player2    \n",
    "            print(\"\\n\\nPlayer2\\n_______\\n\")\n",
    "            display_board(board)\n",
    "            print('\\n')\n",
    "            print('1 | 2 | 3\\n_________\\n\\n4 | 5 | 6\\n_________\\n\\n7 | 8 | 9')\n",
    "            p2_position=select_position(available_slot)\n",
    "            board[p2_position]=p2\n",
    "            if win_check(board):\n",
    "                print('\\n')\n",
    "                print(\"Player 2 Wins !!\")\n",
    "                display_board(board)\n",
    "                break\n",
    "            clear_output(wait=False)\n",
    "        x=Want_to_play()"
   ]
  },
  {
   "cell_type": "code",
   "execution_count": 8,
   "id": "ea762801",
   "metadata": {},
   "outputs": [
    {
     "name": "stdout",
     "output_type": "stream",
     "text": [
      "\n",
      "\n",
      "Player2\n",
      "_______\n",
      "\n",
      "O | X | X\n",
      "_________\n",
      "\n",
      "O | O | X\n",
      "_________\n",
      "\n",
      "X |   |  \n",
      "\n",
      "\n",
      "1 | 2 | 3\n",
      "_________\n",
      "\n",
      "4 | 5 | 6\n",
      "_________\n",
      "\n",
      "7 | 8 | 9\n",
      "\n",
      "Select a number correspondting to the positon in which you want place the character: 9\n",
      "\n",
      "\n",
      "\n",
      "\n",
      "Player 2 Wins !!\n",
      "O | X | X\n",
      "_________\n",
      "\n",
      "O | O | X\n",
      "_________\n",
      "\n",
      "X |   | O\n",
      "Do you want to play Tic Tac Toe (Y or N): N\n"
     ]
    }
   ],
   "source": [
    "play_game()"
   ]
  },
  {
   "cell_type": "code",
   "execution_count": null,
   "id": "58a2d612",
   "metadata": {},
   "outputs": [],
   "source": []
  },
  {
   "cell_type": "code",
   "execution_count": null,
   "id": "efa001df",
   "metadata": {},
   "outputs": [],
   "source": []
  }
 ],
 "metadata": {
  "kernelspec": {
   "display_name": "Python 3 (ipykernel)",
   "language": "python",
   "name": "python3"
  },
  "language_info": {
   "codemirror_mode": {
    "name": "ipython",
    "version": 3
   },
   "file_extension": ".py",
   "mimetype": "text/x-python",
   "name": "python",
   "nbconvert_exporter": "python",
   "pygments_lexer": "ipython3",
   "version": "3.11.5"
  }
 },
 "nbformat": 4,
 "nbformat_minor": 5
}
